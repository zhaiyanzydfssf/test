{
 "cells": [
  {
   "cell_type": "markdown",
   "metadata": {},
   "source": [
    "# 选择\n",
    "## 布尔类型、数值和表达式\n",
    "![](../Photo/33.png)\n",
    "- 注意：比较运算符的相等是两个等到，一个等到代表赋值\n",
    "- 在Python中可以用整型0来代表False，其他数字来代表True\n",
    "- 后面还会讲到 is 在判断语句中的用发"
   ]
  },
  {
   "cell_type": "code",
   "execution_count": 1,
   "metadata": {},
   "outputs": [
    {
     "data": {
      "text/plain": [
       "True"
      ]
     },
     "execution_count": 1,
     "metadata": {},
     "output_type": "execute_result"
    }
   ],
   "source": [
    "10>=10"
   ]
  },
  {
   "cell_type": "code",
   "execution_count": 4,
   "metadata": {},
   "outputs": [
    {
     "data": {
      "text/plain": [
       "False"
      ]
     },
     "execution_count": 4,
     "metadata": {},
     "output_type": "execute_result"
    }
   ],
   "source": [
    "0==True"
   ]
  },
  {
   "cell_type": "code",
   "execution_count": null,
   "metadata": {},
   "outputs": [],
   "source": [
    "while 2:\n",
    "    print(\"hahah\")"
   ]
  },
  {
   "cell_type": "markdown",
   "metadata": {},
   "source": [
    "## 字符串的比较使用ASCII值"
   ]
  },
  {
   "cell_type": "code",
   "execution_count": 1,
   "metadata": {},
   "outputs": [
    {
     "data": {
      "text/plain": [
       "False"
      ]
     },
     "execution_count": 1,
     "metadata": {},
     "output_type": "execute_result"
    }
   ],
   "source": [
    "\"a\">\"b\""
   ]
  },
  {
   "cell_type": "code",
   "execution_count": 2,
   "metadata": {},
   "outputs": [
    {
     "name": "stdout",
     "output_type": "stream",
     "text": [
      "输入分数20\n",
      "做点正事吧,孩子\n"
     ]
    }
   ],
   "source": [
    "num=eval(input(\"输入分数\"))\n",
    "if num>=90:\n",
    "    print(\"A\")\n",
    "elif 80<num<=90:\n",
    "    print(\"B\")\n",
    "elif 70<num<=80:\n",
    "    print(\"C\")\n",
    "elif 60<num<=70:\n",
    "    print(\"加点油\")\n",
    "elif num<60:\n",
    "    print(\"做点正事吧,孩子\")"
   ]
  },
  {
   "cell_type": "code",
   "execution_count": 17,
   "metadata": {},
   "outputs": [
    {
     "data": {
      "text/plain": [
       "0"
      ]
     },
     "execution_count": 17,
     "metadata": {},
     "output_type": "execute_result"
    }
   ],
   "source": [
    "1*False"
   ]
  },
  {
   "cell_type": "markdown",
   "metadata": {},
   "source": [
    "## Markdown \n",
    "- https://github.com/younghz/Markdown"
   ]
  },
  {
   "cell_type": "markdown",
   "metadata": {},
   "source": [
    "## EP:\n",
    "- <img src=\"../Photo/34.png\"></img>\n",
    "- 输入一个数字，判断其实奇数还是偶数"
   ]
  },
  {
   "cell_type": "code",
   "execution_count": null,
   "metadata": {},
   "outputs": [],
   "source": []
  },
  {
   "cell_type": "markdown",
   "metadata": {},
   "source": [
    "## 产生随机数字\n",
    "- 函数random.randint(a,b) 可以用来产生一个a和b之间且包括a和b的随机整数"
   ]
  },
  {
   "cell_type": "code",
   "execution_count": 9,
   "metadata": {},
   "outputs": [
    {
     "name": "stdout",
     "output_type": "stream",
     "text": [
      "输入一个数52\n",
      "太大了\n",
      "输入一个数25\n",
      "太大了\n",
      "输入一个数1\n",
      "输入一个数5\n",
      "猜对了\n"
     ]
    }
   ],
   "source": [
    "import random\n",
    "random_num=random.randint(1,5)\n",
    "while True:\n",
    "    input_num=eval(input(\"输入一个数\"))\n",
    "    if input_num==random_num:\n",
    "        print(\"猜对了\")\n",
    "        break\n",
    "    elif input_num>random_num:\n",
    "        print(\"太大了\")\n",
    "    elif input_num>random_num:\n",
    "        print(\"太小了\")\n"
   ]
  },
  {
   "cell_type": "markdown",
   "metadata": {},
   "source": [
    "##  其他random方法\n",
    "- random.random 返回0.0到1.0之间前闭后开区间的随机浮点\n",
    "- random.randrange(a,b) 前闭后开"
   ]
  },
  {
   "cell_type": "code",
   "execution_count": 4,
   "metadata": {},
   "outputs": [
    {
     "data": {
      "text/plain": [
       "0.5377097645101845"
      ]
     },
     "execution_count": 4,
     "metadata": {},
     "output_type": "execute_result"
    }
   ],
   "source": [
    "import random\n",
    "random.random()"
   ]
  },
  {
   "cell_type": "code",
   "execution_count": 5,
   "metadata": {},
   "outputs": [
    {
     "data": {
      "text/plain": [
       "6"
      ]
     },
     "execution_count": 5,
     "metadata": {},
     "output_type": "execute_result"
    }
   ],
   "source": [
    "import random\n",
    "random.randrange(0,10,2) "
   ]
  },
  {
   "cell_type": "markdown",
   "metadata": {},
   "source": [
    "## EP：\n",
    "- 产生两个随机整数number1和number2，然后显示给用户，使用户输入数字的和，并判定其是否正确\n",
    "- 进阶:写一个随机序号点名程序"
   ]
  },
  {
   "cell_type": "code",
   "execution_count": 3,
   "metadata": {},
   "outputs": [
    {
     "name": "stdout",
     "output_type": "stream",
     "text": [
      "输入一个数2\n",
      "猜错了\n",
      "输入一个数2\n",
      "猜错了\n",
      "输入一个数4\n",
      "猜对了\n"
     ]
    }
   ],
   "source": [
    "import random\n",
    "num1,num2=random.randint(1,2),random.randint(1,3)\n",
    "sum=num1+num2\n",
    "while True:\n",
    "    input_num=eval(input(\"输入一个数\"))\n",
    "    if input_num==sum:\n",
    "        print(\"猜对了\")\n",
    "        break\n",
    "    else:\n",
    "        print(\"猜错了\")"
   ]
  },
  {
   "cell_type": "code",
   "execution_count": null,
   "metadata": {},
   "outputs": [],
   "source": []
  },
  {
   "cell_type": "markdown",
   "metadata": {},
   "source": [
    "## if语句\n",
    "- 如果条件正确就执行一个单向if语句，亦即当条件为真的时候才执行if内部的语句\n",
    "- Python有很多选择语句:\n",
    "> - 单向if \n",
    "  - 双向if-else\n",
    "  - 嵌套if\n",
    "  - 多向if-elif-else\n",
    "  \n",
    "- 注意：当语句含有子语句的时候，那么一定至少要有一个缩进，也就是说如果有儿子存在，那么一定要缩进\n",
    "- 切记不可tab键和space混用，单用tab 或者 space\n",
    "- 当你输出的结果是无论if是否为真时都需要显示时，语句应该与if对齐"
   ]
  },
  {
   "cell_type": "code",
   "execution_count": null,
   "metadata": {},
   "outputs": [],
   "source": [
    "if condition:\n",
    "    pass\n",
    "else:\n",
    "    pass\n",
    "\n",
    "if condition:\n",
    "    pass\n",
    "elif:\n",
    "    pass\n",
    "elif:\n",
    "    pass"
   ]
  },
  {
   "cell_type": "code",
   "execution_count": 21,
   "metadata": {},
   "outputs": [
    {
     "name": "stdout",
     "output_type": "stream",
     "text": [
      ">>30\n",
      ">>不好\n",
      "太丑\n"
     ]
    }
   ],
   "source": [
    "age=eval(input(\">>\"))\n",
    "if age<=30:\n",
    "    face=str(input(\">>\"))\n",
    "    if face==\"好\":\n",
    "        pay=str(input(\">>\"))\n",
    "        if pay==\"高\":\n",
    "            work=str(input(\">>\"))\n",
    "            if work==\"公务员\":\n",
    "                print(\"见\")\n",
    "            else:\n",
    "                print(\"我要铁饭碗\")\n",
    "        else:\n",
    "            print(\"不能幸福\")\n",
    "    else:\n",
    "        print(\"太丑\")\n",
    "else:\n",
    "    print(\"太老\")\n"
   ]
  },
  {
   "cell_type": "code",
   "execution_count": null,
   "metadata": {},
   "outputs": [],
   "source": []
  },
  {
   "cell_type": "markdown",
   "metadata": {},
   "source": [
    "## EP：\n",
    "- 用户输入一个数字，判断其实奇数还是偶数\n",
    "- 进阶：可以查看下4.5实例研究猜生日"
   ]
  },
  {
   "cell_type": "code",
   "execution_count": 2,
   "metadata": {},
   "outputs": [
    {
     "name": "stdout",
     "output_type": "stream",
     "text": [
      "输入一个数23\n",
      "这是一个奇数\n"
     ]
    }
   ],
   "source": [
    "num = 0eval(input(\"输入一个数\"))\n",
    "if num%2 ==0:\n",
    "    print(\"这是一个偶数\")\n",
    "else:\n",
    "    print(\"这是一个奇数\")\n"
   ]
  },
  {
   "cell_type": "markdown",
   "metadata": {},
   "source": [
    "## 双向if-else 语句\n",
    "- 如果条件为真，那么走if内部语句，否则走else内部语句"
   ]
  },
  {
   "cell_type": "markdown",
   "metadata": {},
   "source": [
    "## EP：\n",
    "- 产生两个随机整数number1和number2，然后显示给用户，使用户输入数字，并判定其是否正确,如果正确打印“you‘re correct”，否则打印正确错误"
   ]
  },
  {
   "cell_type": "markdown",
   "metadata": {},
   "source": [
    "## 嵌套if 和多向if-elif-else\n",
    "![](../Photo/35.png)"
   ]
  },
  {
   "cell_type": "markdown",
   "metadata": {},
   "source": [
    "## EP：\n",
    "- 提示用户输入一个年份，然后显示表示这一年的动物\n",
    "![](../Photo/36.png)\n",
    "- 计算身体质量指数的程序\n",
    "- BMI = 以千克为单位的体重除以以米为单位的身高\n",
    "![](../Photo/37.png)"
   ]
  },
  {
   "cell_type": "code",
   "execution_count": 4,
   "metadata": {},
   "outputs": [
    {
     "name": "stdout",
     "output_type": "stream",
     "text": [
      "输入年份1997\n",
      "属牛\n"
     ]
    }
   ],
   "source": [
    "year=eval(input(\"输入年份\"))\n",
    "if year%12==0:\n",
    "    print(\"属猴\")\n",
    "elif year%12==1:\n",
    "    print(\"属鸡\")\n",
    "elif year%12==2:\n",
    "    print(\"属狗\")\n",
    "elif year%12==3:\n",
    "    print(\"属猪\")\n",
    "elif year%12==4:\n",
    "    print(\"属鼠\")\n",
    "elif year%12==5:\n",
    "    print(\"属牛\")\n",
    "elif year%12==6:\n",
    "    print(\"属虎\")\n",
    "elif year%12==7:\n",
    "    print(\"属兔\")\n",
    "elif year%12==8:\n",
    "    print(\"属龙\")\n",
    "elif year%12==9:\n",
    "    print(\"属蛇\")\n",
    "elif year%12==10:\n",
    "    print(\"属马\")\n",
    "elif year%12==11:\n",
    "    print(\"属羊\")\n",
    "\n"
   ]
  },
  {
   "cell_type": "code",
   "execution_count": 10,
   "metadata": {},
   "outputs": [
    {
     "name": "stdout",
     "output_type": "stream",
     "text": [
      "输入体重,身高52,1.68\n",
      "超轻\n"
     ]
    }
   ],
   "source": [
    "weight,height=eval(input(\"输入体重,身高\"))\n",
    "BMI = weight/height**2\n",
    "if BMI<18.5:\n",
    "    print(\"超轻\")\n",
    "elif 18.5<=BMI<25.0:\n",
    "    print(\"标准\")\n",
    "elif 25.0<=BMI<30.0:\n",
    "    print(\"超重\")\n",
    "elif 30.0<=BMI:\n",
    "    print(\"痴肥\")"
   ]
  },
  {
   "cell_type": "markdown",
   "metadata": {},
   "source": [
    "## 逻辑运算符\n",
    "![](../Photo/38.png)"
   ]
  },
  {
   "cell_type": "code",
   "execution_count": 2,
   "metadata": {},
   "outputs": [
    {
     "data": {
      "text/plain": [
       "False"
      ]
     },
     "execution_count": 2,
     "metadata": {},
     "output_type": "execute_result"
    }
   ],
   "source": [
    "not True"
   ]
  },
  {
   "cell_type": "code",
   "execution_count": 3,
   "metadata": {},
   "outputs": [
    {
     "data": {
      "text/plain": [
       "0"
      ]
     },
     "execution_count": 3,
     "metadata": {},
     "output_type": "execute_result"
    }
   ],
   "source": [
    "True*False"
   ]
  },
  {
   "cell_type": "code",
   "execution_count": null,
   "metadata": {},
   "outputs": [],
   "source": []
  },
  {
   "cell_type": "markdown",
   "metadata": {},
   "source": [
    "![](../Photo/39.png)\n",
    "![](../Photo/40.png)"
   ]
  },
  {
   "cell_type": "markdown",
   "metadata": {},
   "source": [
    "## EP：\n",
    "- 判定闰年：一个年份如果能被4整除但不能被100整除，或者能被400整除，那么这个年份就是闰年\n",
    "- 提示用户输入一个年份，并返回是否是闰年\n",
    "- 提示用户输入一个数字，判断其是否为水仙花数"
   ]
  },
  {
   "cell_type": "code",
   "execution_count": 10,
   "metadata": {},
   "outputs": [
    {
     "name": "stdout",
     "output_type": "stream",
     "text": [
      "输入年份2018\n",
      "不是闰年\n"
     ]
    }
   ],
   "source": [
    "year=eval(input(\"输入年份\"))\n",
    "if (year%4==0)and(year%100!=0)or(year%400==0):\n",
    "        print(\"是闰年\")\n",
    "else:\n",
    "    print(\"不是闰年\")"
   ]
  },
  {
   "cell_type": "code",
   "execution_count": 6,
   "metadata": {},
   "outputs": [
    {
     "name": "stdout",
     "output_type": "stream",
     "text": [
      "输入一个数153\n",
      "是水仙花数\n"
     ]
    }
   ],
   "source": [
    "num=eval(input(\"输入一个数\"))\n",
    "a=num//100    \n",
    "b=num//10%10  \n",
    "c=num%10  \n",
    "num1=a*a*a+b*b*b+c*c*c\n",
    "if num==num1:\n",
    "    print(\"是水仙花数\")\n",
    "else:\n",
    "    print(\"不是水仙花数\")\n",
    "#水仙花数是指一个 3 位数，它的每个位上的数字的 3次幂之和等于它本身（例如：1^3 + 5^3+ 3^3 = 153）。"
   ]
  },
  {
   "cell_type": "markdown",
   "metadata": {},
   "source": [
    "## 实例研究：彩票\n",
    "![](../Photo/41.png)"
   ]
  },
  {
   "cell_type": "code",
   "execution_count": 8,
   "metadata": {},
   "outputs": [
    {
     "name": "stdout",
     "output_type": "stream",
     "text": [
      ">>25\n"
     ]
    },
    {
     "ename": "TypeError",
     "evalue": "'int' object is not subscriptable",
     "output_type": "error",
     "traceback": [
      "\u001b[1;31m---------------------------------------------------------------------------\u001b[0m",
      "\u001b[1;31mTypeError\u001b[0m                                 Traceback (most recent call last)",
      "\u001b[1;32m<ipython-input-8-ffb9a5ee315c>\u001b[0m in \u001b[0;36m<module>\u001b[1;34m()\u001b[0m\n\u001b[0;32m      6\u001b[0m \u001b[1;32mif\u001b[0m \u001b[0mnum\u001b[0m\u001b[1;33m==\u001b[0m\u001b[0mrandom_\u001b[0m\u001b[1;33m:\u001b[0m\u001b[1;33m\u001b[0m\u001b[0m\n\u001b[0;32m      7\u001b[0m     \u001b[0mprint\u001b[0m\u001b[1;33m(\u001b[0m\u001b[1;34m\"一等\"\u001b[0m\u001b[1;33m)\u001b[0m\u001b[1;33m\u001b[0m\u001b[0m\n\u001b[1;32m----> 8\u001b[1;33m \u001b[1;32melif\u001b[0m\u001b[1;33m(\u001b[0m\u001b[0mnum\u001b[0m\u001b[1;33m[\u001b[0m\u001b[1;36m0\u001b[0m\u001b[1;33m]\u001b[0m\u001b[1;33m==\u001b[0m\u001b[0mrandom_\u001b[0m\u001b[1;33m[\u001b[0m\u001b[1;36m0\u001b[0m\u001b[1;33m]\u001b[0m\u001b[1;33m)\u001b[0m\u001b[1;32mor\u001b[0m\u001b[1;33m(\u001b[0m\u001b[0mnum\u001b[0m\u001b[1;33m[\u001b[0m\u001b[1;36m1\u001b[0m\u001b[1;33m]\u001b[0m\u001b[1;33m==\u001b[0m\u001b[0mrandom_\u001b[0m\u001b[1;33m[\u001b[0m\u001b[1;36m0\u001b[0m\u001b[1;33m]\u001b[0m\u001b[1;33m)\u001b[0m\u001b[1;32mor\u001b[0m\u001b[1;33m(\u001b[0m\u001b[0mnum\u001b[0m\u001b[1;33m[\u001b[0m\u001b[1;36m0\u001b[0m\u001b[1;33m]\u001b[0m\u001b[1;33m==\u001b[0m\u001b[0mrandom_\u001b[0m\u001b[1;33m[\u001b[0m\u001b[1;36m0\u001b[0m\u001b[1;33m]\u001b[0m\u001b[1;33m)\u001b[0m\u001b[1;33m:\u001b[0m\u001b[1;33m\u001b[0m\u001b[0m\n\u001b[0m\u001b[0;32m      9\u001b[0m     \u001b[0mprint\u001b[0m\u001b[1;33m(\u001b[0m\u001b[1;34m\"二等\"\u001b[0m\u001b[1;33m)\u001b[0m\u001b[1;33m\u001b[0m\u001b[0m\n\u001b[0;32m     10\u001b[0m \u001b[1;32melif\u001b[0m\u001b[1;33m(\u001b[0m\u001b[0mnum\u001b[0m\u001b[1;33m[\u001b[0m\u001b[1;36m0\u001b[0m\u001b[1;33m]\u001b[0m\u001b[1;33m==\u001b[0m\u001b[0mrandom_\u001b[0m\u001b[1;33m[\u001b[0m\u001b[1;36m0\u001b[0m\u001b[1;33m]\u001b[0m\u001b[1;33m)\u001b[0m\u001b[1;32mor\u001b[0m\u001b[1;33m(\u001b[0m\u001b[0mnum\u001b[0m\u001b[1;33m[\u001b[0m\u001b[1;36m1\u001b[0m\u001b[1;33m]\u001b[0m\u001b[1;33m==\u001b[0m\u001b[0mrandom_\u001b[0m\u001b[1;33m[\u001b[0m\u001b[1;36m0\u001b[0m\u001b[1;33m]\u001b[0m\u001b[1;33m)\u001b[0m\u001b[1;33m:\u001b[0m\u001b[1;33m\u001b[0m\u001b[0m\n",
      "\u001b[1;31mTypeError\u001b[0m: 'int' object is not subscriptable"
     ]
    }
   ],
   "source": [
    "import random\n",
    "random_1=random.randint(0,9)\n",
    "random_2=random.randint(0,9)\n",
    "random_=str(random_1)+str(random_2)\n",
    "num=eval(input(\">>\"))\n",
    "if num==random_:\n",
    "    print(\"一等\")\n",
    "elif(num[0]==random_[0])or(num[1]==random_[0])or(num[0]==random_[0]):\n",
    "    print(\"二等\")\n",
    "elif(num[0]==random_[0])or(num[1]==random_[0]):\n",
    "    print(\"三等\") \n",
    "    \n"
   ]
  },
  {
   "cell_type": "markdown",
   "metadata": {},
   "source": [
    "# Homework\n",
    "- 1\n",
    "![](../Photo/42.png)"
   ]
  },
  {
   "cell_type": "code",
   "execution_count": 1,
   "metadata": {},
   "outputs": [
    {
     "name": "stdout",
     "output_type": "stream",
     "text": [
      "输入三个数1,2,3\n",
      "The equation has no real roots\n"
     ]
    }
   ],
   "source": [
    "import math\n",
    "a,b,c=eval(input(\"输入三个数\"))\n",
    "z=b**2-4*a*c\n",
    "if z>0:\n",
    "    r1=(-b+(math.sqrt(b**2-4*a*c)))/(2*a)\n",
    "    r2=(-b-(math.sqrt(b**2-4*a*c)))/(2*a)\n",
    "    print(\"两个根为\"+str(round(r1,6)),str(round(r2,5)))\n",
    "elif z==0: \n",
    "    r1=(-b+(math.sqrt(b**2-4*a*c)))/(2*a)\n",
    "    print(\"根为\"+str(r1))\n",
    "elif z<0:\n",
    "    print(\"The equation has no real roots\")\n",
    "    "
   ]
  },
  {
   "cell_type": "markdown",
   "metadata": {},
   "source": [
    "- 2\n",
    "![](../Photo/43.png)"
   ]
  },
  {
   "cell_type": "code",
   "execution_count": null,
   "metadata": {},
   "outputs": [
    {
     "name": "stdout",
     "output_type": "stream",
     "text": [
      "输入一个数26\n",
      "结果为假\n"
     ]
    }
   ],
   "source": [
    "import random\n",
    "num1,num2=random.randint(0,100),random.randint(0,100)\n",
    "sum=num1+num2\n",
    "while True:\n",
    "    input_num=eval(input(\"输入一个数\"))\n",
    "    if input_num==sum:\n",
    "        print(\"结果为真\")\n",
    "        break\n",
    "    else:\n",
    "        print(\"结果为假\")\n",
    "        "
   ]
  },
  {
   "cell_type": "markdown",
   "metadata": {},
   "source": [
    "- 3\n",
    "![](../Photo/44.png)"
   ]
  },
  {
   "cell_type": "code",
   "execution_count": 8,
   "metadata": {},
   "outputs": [
    {
     "name": "stdout",
     "output_type": "stream",
     "text": [
      "输入星期0\n",
      "输入天数31\n",
      "0在31天之后是星期3\n"
     ]
    }
   ],
   "source": [
    "week=eval(input(\"输入星期\"))\n",
    "day=eval(input(\"输入天数\"))\n",
    "day_=(week+day)%7\n",
    "print(str(week)+\"在\"+str(day)+\"天之后是星期\"+str(day_))\n"
   ]
  },
  {
   "cell_type": "markdown",
   "metadata": {},
   "source": [
    "- 4\n",
    "![](../Photo/45.png)"
   ]
  },
  {
   "cell_type": "code",
   "execution_count": 23,
   "metadata": {},
   "outputs": [
    {
     "name": "stdout",
     "output_type": "stream",
     "text": [
      "输入三个数12,35,60\n",
      "12 35 60\n"
     ]
    }
   ],
   "source": [
    "a,b,c=eval(input(\"输入三个数\"))\n",
    "if a>=b>=c:\n",
    "    print(c,b,a)\n",
    "elif a>=c>=b:\n",
    "    print(b,c,a)\n",
    "elif b>=a>=c:\n",
    "    print(c,a,b)\n",
    "elif b>=c>=a:\n",
    "    print(a,c,b)\n",
    "elif c>=a>=b:\n",
    "    print(b,a,c)\n",
    "else:\n",
    "    print(a,b,c)"
   ]
  },
  {
   "cell_type": "markdown",
   "metadata": {},
   "source": [
    "- 5\n",
    "![](../Photo/46.png)"
   ]
  },
  {
   "cell_type": "code",
   "execution_count": 13,
   "metadata": {},
   "outputs": [
    {
     "name": "stdout",
     "output_type": "stream",
     "text": [
      "输入包装的重量和价钱50,24.59\n",
      "输入包装的重量和价钱25,11.99\n",
      "包装2的价钱更好\n"
     ]
    }
   ],
   "source": [
    "weight1,pay1=eval(input(\"输入包装的重量和价钱\"))\n",
    "weight2,pay2=eval(input(\"输入包装的重量和价钱\"))\n",
    "x1=pay1/weight1\n",
    "x2=pay2/weight2\n",
    "if x1>x2:\n",
    "    print(\"包装2的价钱更好\")\n",
    "if x1<x2:\n",
    "    print(\"包装1的价钱更好\")\n"
   ]
  },
  {
   "cell_type": "markdown",
   "metadata": {},
   "source": [
    "- 6\n",
    "![](../Photo/47.png)"
   ]
  },
  {
   "cell_type": "code",
   "execution_count": 16,
   "metadata": {},
   "outputs": [
    {
     "name": "stdout",
     "output_type": "stream",
     "text": [
      "输入年份和月2005,3\n",
      "2005年的3月有31天\n"
     ]
    }
   ],
   "source": [
    "year,month = eval(input(\"输入年份和月\"))\n",
    "if month in (1,3,5,7,8,10,12):\n",
    "    day=31\n",
    "elif month==2:\n",
    "    if year%4==0 and year%100!=0 or year%400==0:\n",
    "        day=29\n",
    "    else:\n",
    "        day=28\n",
    "else:\n",
    "    day=30 \n",
    "print(str(year)+\"年的\"+str(month)+\"月有\"+str(day)+\"天\")\n"
   ]
  },
  {
   "cell_type": "markdown",
   "metadata": {},
   "source": [
    "- 7\n",
    "![](../Photo/48.png)"
   ]
  },
  {
   "cell_type": "code",
   "execution_count": 22,
   "metadata": {},
   "outputs": [
    {
     "name": "stdout",
     "output_type": "stream",
     "text": [
      "输入一个数1\n",
      "猜错了\n",
      "输入一个数2\n",
      "猜对了\n"
     ]
    }
   ],
   "source": [
    "import random\n",
    "random_num=random.randint(1,2)\n",
    "while True:\n",
    "    input_num=eval(input(\"输入一个数\"))\n",
    "    if input_num==random_num:\n",
    "        print(\"猜对了\")\n",
    "        break\n",
    "    elif input_num!=random_num:\n",
    "        print(\"猜错了\")\n",
    "   \n"
   ]
  },
  {
   "cell_type": "markdown",
   "metadata": {},
   "source": [
    "- 8\n",
    "![](../Photo/49.png)"
   ]
  },
  {
   "cell_type": "code",
   "execution_count": 7,
   "metadata": {},
   "outputs": [
    {
     "name": "stdout",
     "output_type": "stream",
     "text": [
      "0\n",
      "输入一个数1\n",
      "电脑为0,你赢了\n"
     ]
    }
   ],
   "source": [
    "import random\n",
    "random_num=random.randint(0,2)\n",
    "print(random_num)\n",
    "num=eval(input(\"输入一个数\"))\n",
    "if (num-random_num) or (num==0 and (random_num==2)):\n",
    "        print(\"电脑为\"+str(random_num)+\",你赢了\")\n",
    "elif (shu-num==1)or(num==2and(shu==0)):\n",
    "    print(\"电脑为\"+str(random_num)+\",你输了\")\n",
    "else:\n",
    "    print(\"电脑为\"+str(random_num)+\",平局\")\n"
   ]
  },
  {
   "cell_type": "markdown",
   "metadata": {},
   "source": [
    "- 9\n",
    "![](../Photo/50.png)"
   ]
  },
  {
   "cell_type": "code",
   "execution_count": null,
   "metadata": {},
   "outputs": [],
   "source": []
  },
  {
   "cell_type": "markdown",
   "metadata": {},
   "source": [
    "- 10\n",
    "![](../Photo/51.png)"
   ]
  },
  {
   "cell_type": "code",
   "execution_count": null,
   "metadata": {},
   "outputs": [],
   "source": []
  },
  {
   "cell_type": "markdown",
   "metadata": {},
   "source": [
    "- 11\n",
    "![](../Photo/52.png)"
   ]
  },
  {
   "cell_type": "code",
   "execution_count": 4,
   "metadata": {},
   "outputs": [
    {
     "name": "stdout",
     "output_type": "stream",
     "text": [
      "输入一个数234\n",
      "不是回文数\n"
     ]
    }
   ],
   "source": [
    "num=eval(input(\"输入一个数\"))\n",
    "a=num//100    \n",
    "b=num//10%10  \n",
    "c=num%10  \n",
    "if c==a:\n",
    "    print(\"是回文数\")\n",
    "else:\n",
    "    print(\"不是回文数\")"
   ]
  }
 ],
 "metadata": {
  "kernelspec": {
   "display_name": "Python 3",
   "language": "python",
   "name": "python3"
  },
  "language_info": {
   "codemirror_mode": {
    "name": "ipython",
    "version": 3
   },
   "file_extension": ".py",
   "mimetype": "text/x-python",
   "name": "python",
   "nbconvert_exporter": "python",
   "pygments_lexer": "ipython3",
   "version": "3.6.4"
  }
 },
 "nbformat": 4,
 "nbformat_minor": 2
}
