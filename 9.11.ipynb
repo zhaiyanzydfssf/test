{
 "cells": [
  {
   "cell_type": "markdown",
   "metadata": {},
   "source": [
    "# 数学函数、字符串和对象\n",
    "## 本章介绍Python函数来执行常见的数学运算\n",
    "- 函数是完成一个特殊任务的一组语句，可以理解为一个函数相当于一个小功能，但是在开发中，需要注意一个函数的长度最好不要超过一屏\n",
    "- Python中的内置函数是不需要Import导入的\n",
    "<img src=\"../Photo/15.png\"></img>"
   ]
  },
  {
   "cell_type": "code",
   "execution_count": 3,
   "metadata": {},
   "outputs": [
    {
     "data": {
      "text/plain": [
       "0.1"
      ]
     },
     "execution_count": 3,
     "metadata": {},
     "output_type": "execute_result"
    }
   ],
   "source": [
    "abs(-.10)"
   ]
  },
  {
   "cell_type": "code",
   "execution_count": 4,
   "metadata": {},
   "outputs": [
    {
     "data": {
      "text/plain": [
       "4"
      ]
     },
     "execution_count": 4,
     "metadata": {},
     "output_type": "execute_result"
    }
   ],
   "source": [
    "max([1,2,3,4])"
   ]
  },
  {
   "cell_type": "code",
   "execution_count": 5,
   "metadata": {},
   "outputs": [
    {
     "data": {
      "text/plain": [
       "0"
      ]
     },
     "execution_count": 5,
     "metadata": {},
     "output_type": "execute_result"
    }
   ],
   "source": [
    "pow(2,2,2)"
   ]
  },
  {
   "cell_type": "code",
   "execution_count": 6,
   "metadata": {},
   "outputs": [
    {
     "name": "stdout",
     "output_type": "stream",
     "text": [
      "输入三个数字,以,分隔1,2,3\n",
      "请选择你要执行的方式:max,min,pow2_summax\n",
      "最大值为3\n"
     ]
    }
   ],
   "source": [
    "a,b,c=eval(input(\"输入三个数字,以,分隔\"))\n",
    "choose_method=input(\"请选择你要执行的方式:max,min,pow2_sum\")\n",
    "if choose_method==\"max\":\n",
    "    max_=max(a,b,c)\n",
    "    print (\"最大值为\"+str( max_))\n",
    "elif choose_method==\"min\":\n",
    "    min_=min(a,b,c)\n",
    "    print (\"最小值为\"+str( min_))\n",
    "elif choose_method==\"pow2_sum\":\n",
    "    pow_sum_ = pow(a,2) + pow(b,2) + pow(c,2)\n",
    "    print (\"幂和为\"+str(pow_sum_))\n"
   ]
  },
  {
   "cell_type": "markdown",
   "metadata": {},
   "source": [
    "## 尝试练习Python内置函数"
   ]
  },
  {
   "cell_type": "markdown",
   "metadata": {},
   "source": [
    "## Python中的math模块提供了许多数学函数\n",
    "<img src=\"../Photo/16.png\"></img>\n",
    "<img src=\"../Photo/17.png\"></img>\n"
   ]
  },
  {
   "cell_type": "code",
   "execution_count": 7,
   "metadata": {},
   "outputs": [
    {
     "data": {
      "text/plain": [
       "2.0"
      ]
     },
     "execution_count": 7,
     "metadata": {},
     "output_type": "execute_result"
    }
   ],
   "source": [
    "import math\n",
    "math.fabs(2)"
   ]
  },
  {
   "cell_type": "code",
   "execution_count": 14,
   "metadata": {
    "scrolled": true
   },
   "outputs": [
    {
     "data": {
      "text/plain": [
       "0"
      ]
     },
     "execution_count": 14,
     "metadata": {},
     "output_type": "execute_result"
    }
   ],
   "source": [
    "import math\n",
    "math.ceil(-0.9)"
   ]
  },
  {
   "cell_type": "code",
   "execution_count": 3,
   "metadata": {},
   "outputs": [
    {
     "data": {
      "text/plain": [
       "2"
      ]
     },
     "execution_count": 3,
     "metadata": {},
     "output_type": "execute_result"
    }
   ],
   "source": [
    "import math\n",
    "math.floor(2.1)"
   ]
  },
  {
   "cell_type": "code",
   "execution_count": 19,
   "metadata": {},
   "outputs": [
    {
     "data": {
      "text/plain": [
       "2.718281828459045"
      ]
     },
     "execution_count": 19,
     "metadata": {},
     "output_type": "execute_result"
    }
   ],
   "source": [
    "import math\n",
    "math.exp(1)"
   ]
  },
  {
   "cell_type": "code",
   "execution_count": null,
   "metadata": {},
   "outputs": [],
   "source": [
    "import math\n",
    "math.exp(1)"
   ]
  },
  {
   "cell_type": "code",
   "execution_count": 7,
   "metadata": {},
   "outputs": [
    {
     "data": {
      "text/plain": [
       "1"
      ]
     },
     "execution_count": 7,
     "metadata": {},
     "output_type": "execute_result"
    }
   ],
   "source": [
    "import random\n",
    "random_num=random.random()/255\n",
    "res=1./(1.+math.exp(-random_num))\n",
    "round(res)"
   ]
  },
  {
   "cell_type": "code",
   "execution_count": 7,
   "metadata": {},
   "outputs": [
    {
     "data": {
      "text/plain": [
       "0.0"
      ]
     },
     "execution_count": 7,
     "metadata": {},
     "output_type": "execute_result"
    }
   ],
   "source": [
    "import math\n",
    "math.log(1)"
   ]
  },
  {
   "cell_type": "code",
   "execution_count": 8,
   "metadata": {},
   "outputs": [
    {
     "data": {
      "text/plain": [
       "1.5707963267948966"
      ]
     },
     "execution_count": 8,
     "metadata": {},
     "output_type": "execute_result"
    }
   ],
   "source": [
    "import math\n",
    "math.radians(90)"
   ]
  },
  {
   "cell_type": "code",
   "execution_count": 2,
   "metadata": {},
   "outputs": [
    {
     "data": {
      "text/plain": [
       "3.141592653589793"
      ]
     },
     "execution_count": 2,
     "metadata": {},
     "output_type": "execute_result"
    }
   ],
   "source": [
    "import math\n",
    "math.pi"
   ]
  },
  {
   "cell_type": "code",
   "execution_count": null,
   "metadata": {},
   "outputs": [],
   "source": [
    "import matplotlib.pyplot as plt\n",
    "import numpy as np\n",
    "image=plt.imread(\" \")\n",
    "plt.imshow(image/math.sin(90))"
   ]
  },
  {
   "cell_type": "code",
   "execution_count": null,
   "metadata": {},
   "outputs": [],
   "source": []
  },
  {
   "cell_type": "markdown",
   "metadata": {},
   "source": [
    "## 两个数学常量PI和e，可以通过使用math.pi 和math.e调用"
   ]
  },
  {
   "cell_type": "markdown",
   "metadata": {},
   "source": [
    "## EP:\n",
    "- 通过math库，写一个程序，使得用户输入三个顶点(x,y)返回三个角度\n",
    "- 注意：Python计算角度为弧度制，需要将其转换为角度\n",
    "<img src=\"../Photo/18.png\">"
   ]
  },
  {
   "cell_type": "code",
   "execution_count": 2,
   "metadata": {},
   "outputs": [
    {
     "name": "stdout",
     "output_type": "stream",
     "text": [
      "输入定点A坐标(1,2)\n",
      "输入定点B坐标(2,3)\n",
      "输入定点C坐标(3,2)\n",
      "45.00000000000001 89.99999999999999 60.00000000000001\n"
     ]
    }
   ],
   "source": [
    "import math\n",
    "x1,y1 = eval(input(\"输入定点A坐标\"))\n",
    "x2,y2 = eval(input(\"输入定点B坐标\"))\n",
    "x3,y3 = eval(input(\"输入定点C坐标\"))\n",
    "a=math.sqrt((x2-x3)**2+(y2-y3)**2)\n",
    "b=math.sqrt((x3-x1)**2+(y3-y1)**2)\n",
    "c=math.sqrt((x2-x1)**2+(y2-y1)**2)\n",
    "A=math.acos((a*a-b*b-c*c)/(-2*b*c))\n",
    "B=math.acos((b*b-a*a-c*c)/(-2*a*c))\n",
    "C=math.acos((c*c-b*b-a*a)/(-2*b*b))\n",
    "print(math.degrees(A),math.degrees(B),math.degrees(C))\n"
   ]
  },
  {
   "cell_type": "markdown",
   "metadata": {},
   "source": [
    "## 字符串和字符\n",
    "- 在Python中，字符串必须是在单引号或者双引号内，在多段换行的字符串中可以使用“”“\n",
    "- 在使用”“”时，给予其变量则变为字符串，否则当多行注释使用"
   ]
  },
  {
   "cell_type": "code",
   "execution_count": 9,
   "metadata": {},
   "outputs": [
    {
     "data": {
      "text/plain": [
       "str"
      ]
     },
     "execution_count": 9,
     "metadata": {},
     "output_type": "execute_result"
    }
   ],
   "source": [
    "a=\"\"\"d\"\"\"\n",
    "type(a)"
   ]
  },
  {
   "cell_type": "markdown",
   "metadata": {},
   "source": [
    "## ASCII码与Unicode码\n",
    "- <img src=\"../Photo/19.png\"></img>\n",
    "- <img src=\"../Photo/20.png\"></img>\n",
    "- <img src=\"../Photo/21.png\"></img>"
   ]
  },
  {
   "cell_type": "markdown",
   "metadata": {},
   "source": [
    "## 函数ord、chr\n",
    "- ord 返回ASCII码值\n",
    "- chr 返回字符"
   ]
  },
  {
   "cell_type": "code",
   "execution_count": 8,
   "metadata": {
    "scrolled": true
   },
   "outputs": [
    {
     "data": {
      "text/plain": [
       "32735"
      ]
     },
     "execution_count": 8,
     "metadata": {},
     "output_type": "execute_result"
    }
   ],
   "source": [
    "ord(\"翟\")#接收或者返回十进制"
   ]
  },
  {
   "cell_type": "code",
   "execution_count": 7,
   "metadata": {},
   "outputs": [
    {
     "data": {
      "text/plain": [
       "'o'"
      ]
     },
     "execution_count": 7,
     "metadata": {},
     "output_type": "execute_result"
    }
   ],
   "source": [
    "chr(111)"
   ]
  },
  {
   "cell_type": "code",
   "execution_count": 2,
   "metadata": {},
   "outputs": [
    {
     "data": {
      "text/plain": [
       "'a'"
      ]
     },
     "execution_count": 2,
     "metadata": {},
     "output_type": "execute_result"
    }
   ],
   "source": [
    "chr(ord(\"a\"))"
   ]
  },
  {
   "cell_type": "code",
   "execution_count": 3,
   "metadata": {},
   "outputs": [
    {
     "data": {
      "text/plain": [
       "32"
      ]
     },
     "execution_count": 3,
     "metadata": {},
     "output_type": "execute_result"
    }
   ],
   "source": [
    "ord(\" \")"
   ]
  },
  {
   "cell_type": "code",
   "execution_count": 7,
   "metadata": {
    "scrolled": false
   },
   "outputs": [
    {
     "name": "stdout",
     "output_type": "stream",
     "text": [
      "N\n",
      "X\n",
      "*\n",
      "L\n",
      "\n",
      "*\n",
      "\n",
      "\n"
     ]
    }
   ],
   "source": [
    "title = \"DN By zy\"\n",
    "for i in title:\n",
    "    print(chr(ord(i)+10))"
   ]
  },
  {
   "cell_type": "markdown",
   "metadata": {},
   "source": [
    "## EP:\n",
    "- 利用ord与chr进行简单邮箱加密"
   ]
  },
  {
   "cell_type": "code",
   "execution_count": 16,
   "metadata": {},
   "outputs": [
    {
     "name": "stdout",
     "output_type": "stream",
     "text": [
      "N X * L  *   "
     ]
    }
   ],
   "source": [
    "emai=\"609947157@qq.com\"\n",
    "for i in title:\n",
    "    print(chr(ord(i)+10),end=\" \")"
   ]
  },
  {
   "cell_type": "code",
   "execution_count": 17,
   "metadata": {},
   "outputs": [
    {
     "name": "stdout",
     "output_type": "stream",
     "text": [
      " NX*L*\n"
     ]
    }
   ],
   "source": [
    "emai=\"609947157@qq.com\"\n",
    "result=\" \"\n",
    "for i in title:\n",
    "    result=result+chr(ord(i)+10)\n",
    "print(result)"
   ]
  },
  {
   "cell_type": "code",
   "execution_count": 1,
   "metadata": {
    "scrolled": false
   },
   "outputs": [
    {
     "name": "stdout",
     "output_type": "stream",
     "text": [
      "MD5加密前为:this is a md5 test\n",
      "MD5加密后为:2accb8ae19138b5de45a0e71e1ac3482\n"
     ]
    }
   ],
   "source": [
    "import hashlib\n",
    "str_=\"this is a md5 test\"\n",
    "h1=hashlib.md5()\n",
    "h1.update(str_.encode(encoding=\"utf-8\"))\n",
    "print(\"MD5加密前为:\"+str_)\n",
    "print(\"MD5加密后为:\"+h1.hexdigest())"
   ]
  },
  {
   "cell_type": "code",
   "execution_count": 6,
   "metadata": {},
   "outputs": [
    {
     "name": "stdout",
     "output_type": "stream",
     "text": [
      ">>sdsadsa\n"
     ]
    },
    {
     "ename": "AttributeError",
     "evalue": "'_hashlib.HASH' object has no attribute 'hexadecimal'",
     "output_type": "error",
     "traceback": [
      "\u001b[1;31m---------------------------------------------------------------------------\u001b[0m",
      "\u001b[1;31mAttributeError\u001b[0m                            Traceback (most recent call last)",
      "\u001b[1;32m<ipython-input-6-f877a500c381>\u001b[0m in \u001b[0;36m<module>\u001b[1;34m()\u001b[0m\n\u001b[0;32m      4\u001b[0m \u001b[0mhl\u001b[0m\u001b[1;33m=\u001b[0m\u001b[0mhashlib\u001b[0m\u001b[1;33m.\u001b[0m\u001b[0mmd5\u001b[0m\u001b[1;33m(\u001b[0m\u001b[1;33m)\u001b[0m\u001b[1;33m\u001b[0m\u001b[0m\n\u001b[0;32m      5\u001b[0m \u001b[0mhl\u001b[0m\u001b[1;33m.\u001b[0m\u001b[0mupdate\u001b[0m\u001b[1;33m(\u001b[0m\u001b[0mstr_\u001b[0m\u001b[1;33m.\u001b[0m\u001b[0mencode\u001b[0m\u001b[1;33m(\u001b[0m\u001b[0mencoding\u001b[0m\u001b[1;33m=\u001b[0m\u001b[1;34m\"utf-8\"\u001b[0m\u001b[1;33m)\u001b[0m\u001b[1;33m)\u001b[0m\u001b[1;33m\u001b[0m\u001b[0m\n\u001b[1;32m----> 6\u001b[1;33m \u001b[1;32mif\u001b[0m \u001b[0mdataset\u001b[0m\u001b[1;33m==\u001b[0m\u001b[0mhl\u001b[0m\u001b[1;33m.\u001b[0m\u001b[0mhexadecimal\u001b[0m\u001b[1;33m:\u001b[0m\u001b[1;33m\u001b[0m\u001b[0m\n\u001b[0m\u001b[0;32m      7\u001b[0m     \u001b[0mprint\u001b[0m\u001b[1;33m(\u001b[0m\u001b[1;34m\"success\"\u001b[0m\u001b[1;33m)\u001b[0m\u001b[1;33m\u001b[0m\u001b[0m\n\u001b[0;32m      8\u001b[0m \u001b[1;32melse\u001b[0m\u001b[1;33m:\u001b[0m\u001b[1;33m\u001b[0m\u001b[0m\n",
      "\u001b[1;31mAttributeError\u001b[0m: '_hashlib.HASH' object has no attribute 'hexadecimal'"
     ]
    }
   ],
   "source": [
    "import hashlib\n",
    "dataset=\"2accb8ae19138b5de45a0e71e1ac3482\"\n",
    "password=input(\">>\")\n",
    "hl=hashlib.md5()\n",
    "hl.update(str_.encode(encoding=\"utf-8\"))\n",
    "if dataset==hl.hexadecimal:\n",
    "    print(\"success\")\n",
    "else:\n",
    "    print(\"faild\")"
   ]
  },
  {
   "cell_type": "markdown",
   "metadata": {},
   "source": [
    "## 转义序列 \\\n",
    "- a = \"He said,\"Johon's program is easy to read\"\n",
    "- 转掉它原来的意思\n",
    "- 一般情况下只有当语句与默认方法相撞的时候，就需要转义"
   ]
  },
  {
   "cell_type": "code",
   "execution_count": 1,
   "metadata": {},
   "outputs": [
    {
     "name": "stdout",
     "output_type": "stream",
     "text": [
      "ab!"
     ]
    }
   ],
   "source": [
    "print(\"a\",\"b\",sep=\"\",end=\"!\")"
   ]
  },
  {
   "cell_type": "markdown",
   "metadata": {},
   "source": [
    "## 高级print\n",
    "- 参数 end： 以什么方式结束打印\n",
    "- 默认换行打印"
   ]
  },
  {
   "cell_type": "markdown",
   "metadata": {},
   "source": [
    "## 函数str\n",
    "- 将类型强制转换成字符串类型\n",
    "- 其他一些以后会学到(list,set,tuple...)"
   ]
  },
  {
   "cell_type": "markdown",
   "metadata": {},
   "source": [
    "## 字符串连接操作\n",
    "- 直接使用 “+” \n",
    "- join() 函数 "
   ]
  },
  {
   "cell_type": "code",
   "execution_count": 2,
   "metadata": {},
   "outputs": [
    {
     "data": {
      "text/plain": [
       "'ab'"
      ]
     },
     "execution_count": 2,
     "metadata": {},
     "output_type": "execute_result"
    }
   ],
   "source": [
    "\"a\"+\"b\""
   ]
  },
  {
   "cell_type": "code",
   "execution_count": 3,
   "metadata": {},
   "outputs": [
    {
     "data": {
      "text/plain": [
       "'a!b!c!d'"
      ]
     },
     "execution_count": 3,
     "metadata": {},
     "output_type": "execute_result"
    }
   ],
   "source": [
    "\"!\".join(\"abcd\")"
   ]
  },
  {
   "cell_type": "code",
   "execution_count": 4,
   "metadata": {},
   "outputs": [
    {
     "data": {
      "text/plain": [
       "'1!2!3!4'"
      ]
     },
     "execution_count": 4,
     "metadata": {},
     "output_type": "execute_result"
    }
   ],
   "source": [
    "\"!\".join([\"1\",\"2\",\"3\",\"4\"])"
   ]
  },
  {
   "cell_type": "code",
   "execution_count": 6,
   "metadata": {},
   "outputs": [
    {
     "data": {
      "text/plain": [
       "'!a!b'"
      ]
     },
     "execution_count": 6,
     "metadata": {},
     "output_type": "execute_result"
    }
   ],
   "source": [
    "\"!\"+\"a\"+\"!\"+\"b\""
   ]
  },
  {
   "cell_type": "code",
   "execution_count": null,
   "metadata": {},
   "outputs": [],
   "source": []
  },
  {
   "cell_type": "markdown",
   "metadata": {},
   "source": [
    "## EP：\n",
    "- 将 “Welcome” “to” \"Python\" 拼接\n",
    "- 将int型 100 与 “joker is a bad man” 拼接\n",
    "- 从控制台读取字符串\n",
    "> 输入一个名字返回夸奖此人"
   ]
  },
  {
   "cell_type": "code",
   "execution_count": 4,
   "metadata": {},
   "outputs": [
    {
     "data": {
      "text/plain": [
       "'Welcome to Python'"
      ]
     },
     "execution_count": 4,
     "metadata": {},
     "output_type": "execute_result"
    }
   ],
   "source": [
    "\"Welcome \"+\"to\"+\" Python\""
   ]
  },
  {
   "cell_type": "code",
   "execution_count": null,
   "metadata": {},
   "outputs": [],
   "source": []
  },
  {
   "cell_type": "markdown",
   "metadata": {},
   "source": [
    "## 实例研究：最小数量硬币\n",
    "- 开发一个程序，让用户输入总金额，这是一个用美元和美分表示的浮点值，返回一个由美元、两角五分的硬币、一角的硬币、五分硬币、以及美分个数\n",
    "<img src=\"../Photo/22.png\"></img>"
   ]
  },
  {
   "cell_type": "markdown",
   "metadata": {},
   "source": [
    "- Python弱项，对于浮点型的处理并不是很好，但是处理数据的时候使用的是Numpy类型\n",
    "<img src=\"../Photo/23.png\"></img>"
   ]
  },
  {
   "cell_type": "markdown",
   "metadata": {},
   "source": [
    "## id与type\n",
    "- id 查看内存地址，在判断语句中将会使用\n",
    "- type 查看元素类型"
   ]
  },
  {
   "cell_type": "code",
   "execution_count": null,
   "metadata": {},
   "outputs": [],
   "source": [
    "num=1\n",
    "while num!=0:\n",
    "    num_=0.1\n",
    "    print(num)\n",
    "    "
   ]
  },
  {
   "cell_type": "code",
   "execution_count": 2,
   "metadata": {},
   "outputs": [
    {
     "data": {
      "text/plain": [
       "bool"
      ]
     },
     "execution_count": 2,
     "metadata": {},
     "output_type": "execute_result"
    }
   ],
   "source": [
    "type(True)"
   ]
  },
  {
   "cell_type": "code",
   "execution_count": 3,
   "metadata": {},
   "outputs": [
    {
     "data": {
      "text/plain": [
       "1348627936"
      ]
     },
     "execution_count": 3,
     "metadata": {},
     "output_type": "execute_result"
    }
   ],
   "source": [
    "a=1\n",
    "id(a)"
   ]
  },
  {
   "cell_type": "code",
   "execution_count": 4,
   "metadata": {},
   "outputs": [
    {
     "data": {
      "text/plain": [
       "1348627968"
      ]
     },
     "execution_count": 4,
     "metadata": {},
     "output_type": "execute_result"
    }
   ],
   "source": [
    "b=2\n",
    "id(b)"
   ]
  },
  {
   "cell_type": "code",
   "execution_count": 5,
   "metadata": {},
   "outputs": [
    {
     "name": "stdout",
     "output_type": "stream",
     "text": [
      "1348627936 1348627968\n"
     ]
    }
   ],
   "source": [
    "a=1\n",
    "b=2\n",
    "print(id(a),id(b))"
   ]
  },
  {
   "cell_type": "markdown",
   "metadata": {},
   "source": [
    "## 其他格式化语句见书"
   ]
  },
  {
   "cell_type": "code",
   "execution_count": null,
   "metadata": {},
   "outputs": [],
   "source": []
  },
  {
   "cell_type": "markdown",
   "metadata": {},
   "source": [
    "# Homework\n",
    "- 1\n",
    "<img src=\"../Photo/24.png\"><img>\n",
    "<img src=\"../Photo/25.png\"><img>"
   ]
  },
  {
   "cell_type": "code",
   "execution_count": 9,
   "metadata": {},
   "outputs": [
    {
     "name": "stdout",
     "output_type": "stream",
     "text": [
      "输入五边形顶点到中心的距离5.5\n",
      "五边形面积为71.92\n"
     ]
    }
   ],
   "source": [
    "import math\n",
    "r=eval(input(\"输入五边形顶点到中心的距离\"))\n",
    "s=2*r*math.sin(math.pi/5)\n",
    "area=5*s*s/(4*math.tan(math.pi/5))\n",
    "print(\"五边形面积为\"+str(round(area,2)))\n",
    "     "
   ]
  },
  {
   "cell_type": "markdown",
   "metadata": {},
   "source": [
    "- 2\n",
    "<img src=\"../Photo/26.png\"><img>"
   ]
  },
  {
   "cell_type": "code",
   "execution_count": 7,
   "metadata": {},
   "outputs": [
    {
     "name": "stdout",
     "output_type": "stream",
     "text": [
      "输入地球表面第一个点的左边39.55,-116.25\n",
      "输入地球表面第二个点的左边41.5,87.37\n",
      "10691.79183231593\n"
     ]
    }
   ],
   "source": [
    "import math\n",
    "radius=6371.01\n",
    "x1,y1=eval(input(\"输入地球表面第一个点的左边\"))\n",
    "x2,y2=eval(input(\"输入地球表面第二个点的左边\"))\n",
    "d=radius*math.acos(math.sin(math.radians(x1))*math.sin(math.radians(x2))+math.cos(math.radians(x1))*math.cos(math.radians(x2))*math.cos(math.radians(y1-y2)))\n",
    "print(d)"
   ]
  },
  {
   "cell_type": "markdown",
   "metadata": {},
   "source": [
    "- 3\n",
    "<img src=\"../Photo/27.png\"><img>"
   ]
  },
  {
   "cell_type": "code",
   "execution_count": 9,
   "metadata": {},
   "outputs": [
    {
     "name": "stdout",
     "output_type": "stream",
     "text": [
      "输入五角星边长5.5\n",
      "五角星面积为52.04444136781625\n"
     ]
    }
   ],
   "source": [
    "import math\n",
    "s=eval(input(\"输入五角星边长\"))\n",
    "area=(5*s**2)/(4*math.tan(math.pi/5))\n",
    "print(\"五角星面积为\"+str(round(area,14)))"
   ]
  },
  {
   "cell_type": "markdown",
   "metadata": {},
   "source": [
    "- 4\n",
    "<img src=\"../Photo/28.png\"><img>"
   ]
  },
  {
   "cell_type": "code",
   "execution_count": 12,
   "metadata": {},
   "outputs": [
    {
     "name": "stdout",
     "output_type": "stream",
     "text": [
      "输入多边形边数5\n",
      "输入多边形边长6.5\n",
      "五角星面积为72.69017017488386\n"
     ]
    }
   ],
   "source": [
    "import math\n",
    "n=eval(input(\"输入多边形边数\"))\n",
    "s=eval(input(\"输入多边形边长\"))\n",
    "area=(n*s**2)/(4*math.tan(math.pi/n))\n",
    "print(\"五角星面积为\"+str(area))"
   ]
  },
  {
   "cell_type": "markdown",
   "metadata": {},
   "source": [
    "- 5\n",
    "<img src=\"../Photo/29.png\"><img>\n",
    "<img src=\"../Photo/30.png\"><img>"
   ]
  },
  {
   "cell_type": "code",
   "execution_count": 24,
   "metadata": {},
   "outputs": [
    {
     "name": "stdout",
     "output_type": "stream",
     "text": [
      "E\n"
     ]
    }
   ],
   "source": [
    "print(chr(69))"
   ]
  },
  {
   "cell_type": "markdown",
   "metadata": {},
   "source": [
    "- 6\n",
    "<img src=\"../Photo/31.png\"><img>"
   ]
  },
  {
   "cell_type": "code",
   "execution_count": 14,
   "metadata": {},
   "outputs": [
    {
     "name": "stdout",
     "output_type": "stream",
     "text": [
      "输入雇员姓名Smith\n",
      "输入一周工作时间10\n",
      "每小时报酬9.75\n",
      "输入联邦预扣税率0.2\n",
      "输入州预扣税率0.09\n",
      "雇员姓名:Smith\n",
      "一周工作时间:10\n",
      "每小时报酬:9.75\n",
      "税前工资:97.5\n",
      "联邦预扣税率:19.5\n",
      "州预扣税率8.775\n",
      "税款总额28.275\n",
      "实发工资:69.225\n"
     ]
    }
   ],
   "source": [
    "name=str(input(\"输入雇员姓名\"))\n",
    "hours=eval(input(\"输入一周工作时间\"))\n",
    "pay=eval(input(\"每小时报酬\"))\n",
    "federal=eval(input(\"输入联邦预扣税率\"))\n",
    "state=eval(input(\"输入州预扣税率\"))\n",
    "money=hours*pay\n",
    "rate1=money*federal\n",
    "rate2=money*state\n",
    "money1=money-rate1-rate2\n",
    "print(\"雇员姓名:\"+name)\n",
    "print(\"一周工作时间:\"+str(hours))\n",
    "print(\"每小时报酬:\"+str(pay))\n",
    "print(\"税前工资:\"+str(money))\n",
    "print(\"联邦预扣税率:\"+str(rate1))\n",
    "print(\"州预扣税率\"+str(rate2))\n",
    "print(\"税款总额\"+str(rate2+rate1))\n",
    "print(\"实发工资:\"+str(money1))\n"
   ]
  },
  {
   "cell_type": "markdown",
   "metadata": {},
   "source": [
    "- 7\n",
    "<img src=\"../Photo/32.png\"><img>"
   ]
  },
  {
   "cell_type": "code",
   "execution_count": 8,
   "metadata": {},
   "outputs": [
    {
     "name": "stdout",
     "output_type": "stream",
     "text": [
      "输入一个四位整数3125\n",
      "5213\n"
     ]
    }
   ],
   "source": [
    "num=eval(input(\"输入一个四位整数\"))\n",
    "a=num%10\n",
    "b=num//10%10\n",
    "c=num//100%10\n",
    "d=num//1000\n",
    "print(str(a)+str(b)+str(c)+str(d))\n",
    "\n"
   ]
  },
  {
   "cell_type": "markdown",
   "metadata": {},
   "source": [
    "- 8 进阶：\n",
    "> 加密一串文本，并将解密后的文件写入本地保存"
   ]
  },
  {
   "cell_type": "code",
   "execution_count": null,
   "metadata": {},
   "outputs": [],
   "source": []
  }
 ],
 "metadata": {
  "kernelspec": {
   "display_name": "Python 3",
   "language": "python",
   "name": "python3"
  },
  "language_info": {
   "codemirror_mode": {
    "name": "ipython",
    "version": 3
   },
   "file_extension": ".py",
   "mimetype": "text/x-python",
   "name": "python",
   "nbconvert_exporter": "python",
   "pygments_lexer": "ipython3",
   "version": "3.6.4"
  }
 },
 "nbformat": 4,
 "nbformat_minor": 2
}
